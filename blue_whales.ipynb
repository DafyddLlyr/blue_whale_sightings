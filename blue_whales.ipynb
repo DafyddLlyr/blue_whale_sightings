{
 "cells": [
  {
   "cell_type": "code",
   "execution_count": 1,
   "metadata": {},
   "outputs": [],
   "source": [
    "import geopandas as gpd\n",
    "from keplergl import KeplerGl\n",
    "from shapely import wkt\n",
    "import pandas as pd\n",
    "import json"
   ]
  },
  {
   "cell_type": "code",
   "execution_count": 2,
   "metadata": {},
   "outputs": [
    {
     "data": {
      "text/html": [
       "<div>\n",
       "<style scoped>\n",
       "    .dataframe tbody tr th:only-of-type {\n",
       "        vertical-align: middle;\n",
       "    }\n",
       "\n",
       "    .dataframe tbody tr th {\n",
       "        vertical-align: top;\n",
       "    }\n",
       "\n",
       "    .dataframe thead th {\n",
       "        text-align: right;\n",
       "    }\n",
       "</style>\n",
       "<table border=\"1\" class=\"dataframe\">\n",
       "  <thead>\n",
       "    <tr style=\"text-align: right;\">\n",
       "      <th></th>\n",
       "      <th>footprintwkt</th>\n",
       "      <th>geometry</th>\n",
       "    </tr>\n",
       "  </thead>\n",
       "  <tbody>\n",
       "    <tr>\n",
       "      <th>0</th>\n",
       "      <td>POINT(-99.5 9.5)</td>\n",
       "      <td>POINT (-99.50000 9.50000)</td>\n",
       "    </tr>\n",
       "    <tr>\n",
       "      <th>1</th>\n",
       "      <td>POINT(-99.5 16.5)</td>\n",
       "      <td>POINT (-99.50000 16.50000)</td>\n",
       "    </tr>\n",
       "    <tr>\n",
       "      <th>2</th>\n",
       "      <td>POINT(-99.5 15.5)</td>\n",
       "      <td>POINT (-99.50000 15.50000)</td>\n",
       "    </tr>\n",
       "    <tr>\n",
       "      <th>3</th>\n",
       "      <td>POINT(-99.5 14.5)</td>\n",
       "      <td>POINT (-99.50000 14.50000)</td>\n",
       "    </tr>\n",
       "    <tr>\n",
       "      <th>4</th>\n",
       "      <td>POINT(-99.5 13.5)</td>\n",
       "      <td>POINT (-99.50000 13.50000)</td>\n",
       "    </tr>\n",
       "  </tbody>\n",
       "</table>\n",
       "</div>"
      ],
      "text/plain": [
       "        footprintwkt                    geometry\n",
       "0   POINT(-99.5 9.5)   POINT (-99.50000 9.50000)\n",
       "1  POINT(-99.5 16.5)  POINT (-99.50000 16.50000)\n",
       "2  POINT(-99.5 15.5)  POINT (-99.50000 15.50000)\n",
       "3  POINT(-99.5 14.5)  POINT (-99.50000 14.50000)\n",
       "4  POINT(-99.5 13.5)  POINT (-99.50000 13.50000)"
      ]
     },
     "execution_count": 2,
     "metadata": {},
     "output_type": "execute_result"
    }
   ],
   "source": [
    "df = pd.read_csv('raw_whale_data.csv')\n",
    "df['geometry'] = df['footprintwkt'].apply(wkt.loads)\n",
    "whale_data = gpd.GeoDataFrame(df, crs='epsg:4326', geometry=\"geometry\")\n",
    "whale_data.head()"
   ]
  },
  {
   "cell_type": "code",
   "execution_count": 4,
   "metadata": {},
   "outputs": [],
   "source": [
    "whale_data[\"lat\"] = whale_data.geometry.y\n",
    "whale_data[\"lon\"] = whale_data.geometry.x\n",
    "map_layer = pd.DataFrame(whale_data[[\"lat\", \"lon\"]])\n",
    "map_layer.to_csv('fomatted_whale_data.csv', index=False)"
   ]
  },
  {
   "cell_type": "code",
   "execution_count": 6,
   "metadata": {},
   "outputs": [
    {
     "name": "stdout",
     "output_type": "stream",
     "text": [
      "User Guide: https://docs.kepler.gl/docs/keplergl-jupyter\n"
     ]
    },
    {
     "data": {
      "application/vnd.jupyter.widget-view+json": {
       "model_id": "dcec5115997a4b55ab9be39bb45963ec",
       "version_major": 2,
       "version_minor": 0
      },
      "text/plain": [
       "KeplerGl(config={'version': 'v1', 'config': {'visState': {'filters': [], 'layers': [{'id': 'Blue Whale Sightin…"
      ]
     },
     "metadata": {},
     "output_type": "display_data"
    }
   ],
   "source": [
    "config = json.load(open('config.json'))\n",
    "map = KeplerGl(config=config)\n",
    "map.add_data(map_layer, name=\"Blue Whale Sightings\")\n",
    "map"
   ]
  },
  {
   "cell_type": "code",
   "execution_count": 8,
   "metadata": {},
   "outputs": [
    {
     "name": "stdout",
     "output_type": "stream",
     "text": [
      "Map saved to index.html!\n"
     ]
    }
   ],
   "source": [
    "map.save_to_html(file_name=\"index.html\")"
   ]
  }
 ],
 "metadata": {
  "interpreter": {
   "hash": "63fd5069d213b44bf678585dea6b12cceca9941eaf7f819626cde1f2670de90d"
  },
  "kernelspec": {
   "display_name": "Python 3.9.0 64-bit",
   "language": "python",
   "name": "python3"
  },
  "language_info": {
   "codemirror_mode": {
    "name": "ipython",
    "version": 3
   },
   "file_extension": ".py",
   "mimetype": "text/x-python",
   "name": "python",
   "nbconvert_exporter": "python",
   "pygments_lexer": "ipython3",
   "version": "3.9.7"
  },
  "orig_nbformat": 4
 },
 "nbformat": 4,
 "nbformat_minor": 2
}
